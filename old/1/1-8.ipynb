{
 "cells": [
  {
   "cell_type": "markdown",
   "id": "ca7d95fc",
   "metadata": {},
   "source": [
    "Hastily filling in from the main file."
   ]
  },
  {
   "cell_type": "code",
   "execution_count": 6,
   "id": "2881cd8d",
   "metadata": {},
   "outputs": [],
   "source": [
    "#lang iracket/lang #:require sicp"
   ]
  },
  {
   "cell_type": "code",
   "execution_count": 7,
   "id": "648a0d31",
   "metadata": {},
   "outputs": [],
   "source": [
    "(#%require racket/trace)\n",
    "(#%require srfi/78)"
   ]
  },
  {
   "cell_type": "markdown",
   "id": "f9941b81",
   "metadata": {},
   "source": [
    "First, the code we've done so far.\n",
    "\n",
    "## Definitions"
   ]
  },
  {
   "cell_type": "code",
   "execution_count": 8,
   "id": "2c6a70a3",
   "metadata": {},
   "outputs": [],
   "source": [
    "(define (average x y)\n",
    "  (/ (+ x y) 2))\n",
    "(define (abs x)\n",
    "  (if (< x 0)\n",
    "      (- x)\n",
    "      x))\n",
    "(define (square x)\n",
    "  (* x x))\n",
    "(define (mean-square x y)\n",
    "  (average (square x) (square y)))\n",
    "(define (improve guess x)\n",
    "  (average guess (/ x guess)))\n",
    "(define (good-enough? guess x)\n",
    "  (= (improve guess x) guess)) \n",
    "(define (sqrt-iter guess x)\n",
    "  (if (good-enough? guess x)\n",
    "      guess\n",
    "      (sqrt-iter (improve guess x) x)))\n",
    "(define (sqrt x)\n",
    "  (sqrt-iter 1.0 x))"
   ]
  },
  {
   "cell_type": "markdown",
   "id": "40ceb445",
   "metadata": {},
   "source": [
    "**Exercise 1.8**: Newton’s method for cube roots is based on the fact that if $y$ is an approximation to the cube root of $x$, then a better approximation is given by the value $${ x/y^2 + 2y \\over 3 }$$\n",
    "Use this formula to implement a cube-root procedure analogous to the square-root procedure."
   ]
  },
  {
   "cell_type": "code",
   "execution_count": 9,
   "id": "2baf62cf",
   "metadata": {},
   "outputs": [],
   "source": [
    ";; My Solution\n",
    "\n",
    "(define (cb-good-enough? nextguess guess lastguess x)\n",
    "  (or (= nextguess guess)\n",
    "      (= nextguess lastguess)))\n",
    "(define (cb-improve guess x)\n",
    "  (/\n",
    "   (+\n",
    "    (/ x (square guess))\n",
    "    (* guess 2))\n",
    "   3))\n",
    "(define (cbrt-iter guess lastguess x)\n",
    "  (define nextguess (cb-improve guess x))\n",
    "  (if (cb-good-enough? nextguess guess lastguess x)\n",
    "      nextguess\n",
    "      (cbrt-iter nextguess guess x)))\n",
    "(define (cbrt x)\n",
    "  (cbrt-iter 1.1 9999 x))"
   ]
  },
  {
   "cell_type": "markdown",
   "id": "9e257aa6",
   "metadata": {},
   "source": [
    "# Tests!"
   ]
  },
  {
   "cell_type": "code",
   "execution_count": 10,
   "id": "9e69b28f",
   "metadata": {},
   "outputs": [
    {
     "name": "stdout",
     "output_type": "stream",
     "text": [
      ">(cbrt 1)\n",
      "<1.0\n",
      ">(cbrt -2)\n",
      "<-1.2599210498948732\n",
      ">(cbrt -8)\n",
      "<-2.0\n",
      ">(cbrt 27)\n",
      "<3.0\n",
      ">(cbrt -1000)\n",
      "<-10.0\n",
      ">(cbrt 1e-30)\n",
      "<1e-10\n",
      ">(cbrt 1e+60)\n",
      "<1e+20\n"
     ]
    },
    {
     "data": {
      "text/html": [
       "<code>1e+20</code>"
      ],
      "text/plain": [
       "1e+20"
      ]
     },
     "execution_count": 10,
     "metadata": {},
     "output_type": "execute_result"
    }
   ],
   "source": [
    "(trace cbrt)\n",
    "(cbrt 1)\n",
    "(cbrt -2)\n",
    "(cbrt -8)\n",
    "(cbrt 27)\n",
    "(cbrt -1000)\n",
    "(cbrt 1e-30)\n",
    "(cbrt 1e60)"
   ]
  }
 ],
 "metadata": {
  "kernelspec": {
   "display_name": "Racket",
   "language": "racket",
   "name": "racket"
  },
  "language_info": {
   "codemirror_mode": "scheme",
   "file_extension": ".rkt",
   "mimetype": "text/x-racket",
   "name": "Racket",
   "pygments_lexer": "racket",
   "version": "8.4"
  }
 },
 "nbformat": 4,
 "nbformat_minor": 5
}
