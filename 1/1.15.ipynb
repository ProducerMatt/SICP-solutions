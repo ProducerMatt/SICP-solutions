{
 "cells": [
  {
   "cell_type": "code",
   "execution_count": 24,
   "id": "0bca642f",
   "metadata": {},
   "outputs": [],
   "source": [
    "import matplotlib.pyplot as plt\n",
    "from numpy import arange\n",
    "%matplotlib inline\n",
    "\n",
    "recurse = 0\n",
    "def cube(x):\n",
    "    return x * x * x\n",
    "def p(x):\n",
    "    return (3 * x) - (4 * cube(x))\n",
    "def sine(angle, root=True):\n",
    "    global recurse\n",
    "    if root: recurse = 0\n",
    "    if (not (abs(angle) > 0.1)):\n",
    "        return angle\n",
    "    else:\n",
    "        recurse += 1\n",
    "        return p(sine((angle / 3.0), root=False))"
   ]
  },
  {
   "cell_type": "code",
   "execution_count": 26,
   "id": "eab304e9",
   "metadata": {},
   "outputs": [
    {
     "name": "stdout",
     "output_type": "stream",
     "text": [
      "0.1:  0\n",
      "0.2:  1\n",
      "0.30000000000000004:  2\n",
      "0.4:  2\n",
      "0.5:  2\n",
      "0.6:  2\n",
      "0.7000000000000001:  2\n",
      "0.8:  2\n",
      "0.9:  2\n",
      "1.0:  3\n",
      "1.1:  3\n",
      "1.2000000000000002:  3\n",
      "1.3000000000000003:  3\n",
      "1.4000000000000001:  3\n",
      "1.5000000000000002:  3\n",
      "1.6:  3\n",
      "1.7000000000000002:  3\n",
      "1.8000000000000003:  3\n",
      "1.9000000000000001:  3\n",
      "2.0:  3\n",
      "2.1:  3\n",
      "2.2:  3\n",
      "2.3000000000000003:  3\n",
      "2.4000000000000004:  3\n",
      "2.5000000000000004:  3\n",
      "2.6:  3\n",
      "2.7:  3\n",
      "2.8000000000000003:  4\n",
      "2.9000000000000004:  4\n"
     ]
    }
   ],
   "source": [
    "for i in arange(0.1, 3, 0.1):\n",
    "    sine(i)\n",
    "    print(str(i) + \": \", recurse)"
   ]
  },
  {
   "cell_type": "code",
   "execution_count": null,
   "id": "d9d55d8a",
   "metadata": {},
   "outputs": [],
   "source": []
  }
 ],
 "metadata": {
  "kernelspec": {
   "display_name": "Python 3 (ipykernel)",
   "language": "python",
   "name": "python3"
  },
  "language_info": {
   "codemirror_mode": {
    "name": "ipython",
    "version": 3
   },
   "file_extension": ".py",
   "mimetype": "text/x-python",
   "name": "python",
   "nbconvert_exporter": "python",
   "pygments_lexer": "ipython3",
   "version": "3.9.7"
  }
 },
 "nbformat": 4,
 "nbformat_minor": 5
}
